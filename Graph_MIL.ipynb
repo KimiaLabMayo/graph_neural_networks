{
 "cells": [
  {
   "cell_type": "code",
   "execution_count": 6,
   "metadata": {},
   "outputs": [],
   "source": [
    "import os\n",
    "import nvgpu\n",
    "\n",
    "\n",
    "avail_gpu = nvgpu.available_gpus()[0]\n",
    "\n",
    "os.environ['NVIDIA_VISIBLE_DEVICES'] = '0'\n",
    "os.environ['CUDA_VISIBLE_DEVICES'] = '0'"
   ]
  },
  {
   "cell_type": "code",
   "execution_count": 7,
   "metadata": {},
   "outputs": [
    {
     "name": "stdout",
     "output_type": "stream",
     "text": [
      "Requirement already satisfied: nvgpu in /opt/conda/lib/python3.7/site-packages (0.8.0)\n",
      "Requirement already satisfied: flask-restful in /opt/conda/lib/python3.7/site-packages (from nvgpu) (0.3.8)\n",
      "Requirement already satisfied: tabulate in /opt/conda/lib/python3.7/site-packages (from nvgpu) (0.8.6)\n",
      "Requirement already satisfied: termcolor in /opt/conda/lib/python3.7/site-packages (from nvgpu) (1.1.0)\n",
      "Requirement already satisfied: arrow in /opt/conda/lib/python3.7/site-packages (from nvgpu) (0.15.5)\n",
      "Requirement already satisfied: ansi2html in /opt/conda/lib/python3.7/site-packages (from nvgpu) (1.5.2)\n",
      "Requirement already satisfied: requests in /opt/conda/lib/python3.7/site-packages (from nvgpu) (2.22.0)\n",
      "Requirement already satisfied: flask in /opt/conda/lib/python3.7/site-packages (from nvgpu) (1.1.1)\n",
      "Requirement already satisfied: psutil in /opt/conda/lib/python3.7/site-packages (from nvgpu) (5.6.7)\n",
      "Requirement already satisfied: six in /opt/conda/lib/python3.7/site-packages (from nvgpu) (1.12.0)\n",
      "Requirement already satisfied: pandas in /opt/conda/lib/python3.7/site-packages (from nvgpu) (1.0.1)\n",
      "Requirement already satisfied: pynvml; python_version >= \"3.6\" in /opt/conda/lib/python3.7/site-packages (from nvgpu) (8.0.4)\n",
      "Requirement already satisfied: aniso8601>=0.82 in /opt/conda/lib/python3.7/site-packages (from flask-restful->nvgpu) (8.0.0)\n",
      "Requirement already satisfied: pytz in /opt/conda/lib/python3.7/site-packages (from flask-restful->nvgpu) (2019.3)\n",
      "Requirement already satisfied: python-dateutil in /opt/conda/lib/python3.7/site-packages (from arrow->nvgpu) (2.8.1)\n",
      "Requirement already satisfied: urllib3!=1.25.0,!=1.25.1,<1.26,>=1.21.1 in /opt/conda/lib/python3.7/site-packages (from requests->nvgpu) (1.24.2)\n",
      "Requirement already satisfied: chardet<3.1.0,>=3.0.2 in /opt/conda/lib/python3.7/site-packages (from requests->nvgpu) (3.0.4)\n",
      "Requirement already satisfied: certifi>=2017.4.17 in /opt/conda/lib/python3.7/site-packages (from requests->nvgpu) (2019.11.28)\n",
      "Requirement already satisfied: idna<2.9,>=2.5 in /opt/conda/lib/python3.7/site-packages (from requests->nvgpu) (2.8)\n",
      "Requirement already satisfied: itsdangerous>=0.24 in /opt/conda/lib/python3.7/site-packages (from flask->nvgpu) (1.1.0)\n",
      "Requirement already satisfied: Werkzeug>=0.15 in /opt/conda/lib/python3.7/site-packages (from flask->nvgpu) (1.0.0)\n",
      "Requirement already satisfied: Jinja2>=2.10.1 in /opt/conda/lib/python3.7/site-packages (from flask->nvgpu) (2.10.3)\n",
      "Requirement already satisfied: click>=5.1 in /opt/conda/lib/python3.7/site-packages (from flask->nvgpu) (7.0)\n",
      "Requirement already satisfied: numpy>=1.13.3 in /opt/conda/lib/python3.7/site-packages (from pandas->nvgpu) (1.17.4)\n",
      "Requirement already satisfied: MarkupSafe>=0.23 in /opt/conda/lib/python3.7/site-packages (from Jinja2>=2.10.1->flask->nvgpu) (1.1.1)\n"
     ]
    }
   ],
   "source": [
    "!pip install nvgpu"
   ]
  },
  {
   "cell_type": "code",
   "execution_count": 8,
   "metadata": {},
   "outputs": [],
   "source": [
    "import torch\n",
    "import torch.nn as nn\n",
    "import torch.nn.functional as F\n",
    "from torch_geometric.nn import GCNConv, SAGPooling,GlobalAttention,global_add_pool,SAGEConv,ChebConv,GraphConv,graclus, global_mean_pool\n",
    "import numpy as np\n",
    "from torch_geometric import data \n",
    "import torch.optim as optim\n",
    "from torch.utils.data import DataLoader, Dataset\n",
    "\n",
    "import torch.nn.init"
   ]
  },
  {
   "cell_type": "code",
   "execution_count": 9,
   "metadata": {},
   "outputs": [],
   "source": [
    "device = torch.device( \"cuda\")"
   ]
  },
  {
   "cell_type": "markdown",
   "metadata": {},
   "source": [
    "## Loading histo data"
   ]
  },
  {
   "cell_type": "code",
   "execution_count": 10,
   "metadata": {},
   "outputs": [],
   "source": [
    "import pandas as pd\n",
    "histo_data = pd.read_csv('/isilon/projects/entire-gdc-validation/gdc_data.csv')\n",
    "histo_data['file_type'] = histo_data.file_name.apply(lambda x: x.split('-')[5][:2])\n",
    "histo_data['section_type'] = histo_data.file_type.apply(lambda x: {\n",
    "    'DX': 'Biopsy', 'TS': 'Frozen', 'BS': 'Frozen', 'MS': 'Unknown'}[x])\n",
    "histo_data['health_type'] = histo_data.sample_type.apply(lambda x: 'Healthy' if x == 'Solid Tissue Normal' else 'Unhealthy')"
   ]
  },
  {
   "cell_type": "code",
   "execution_count": 11,
   "metadata": {},
   "outputs": [],
   "source": [
    "#lung_data = data[(data.primary_site == 'Lung') & (data.section_type == 'Biopsy')]\n",
    "#lung_data = data[data.primary_site == 'Lung']\n",
    "histo_data = histo_data[(histo_data.health_type == 'Unhealthy') & \n",
    "                        (histo_data.primary_site == 'Lung') & \n",
    "                        (histo_data.section_type == 'Biopsy') ]"
   ]
  },
  {
   "cell_type": "code",
   "execution_count": null,
   "metadata": {},
   "outputs": [],
   "source": [
    "import json\n",
    "import requests\n",
    "import pandas as pd\n",
    "import io\n",
    "\n",
    "def get_associated_cases():\n",
    "    fields = [\n",
    "        \"cases.project.primary_site\",\n",
    "        \"cases.case_id\",\n",
    "        \"cases.submitter_id\",\n",
    "        \"cases.project.disease_type\",\n",
    "        \"cases.samples.pathology_report_uuid\",\n",
    "        \"cases.samples.sample_type\",\n",
    "        \"cases.diagnoses.primary_diagnosis\",\n",
    "        \"cases.diagnoses.morphology\",\n",
    "        \"file_id\",\n",
    "        \"file_name\",\n",
    "        \"md5sum\",\n",
    "        \"file_size\"\n",
    "    ]\n",
    "    \n",
    "    fields = \",\".join(fields)\n",
    "    \n",
    "    file_endpt = \"https://api.gdc.cancer.gov/files/\"\n",
    "    \n",
    "    filters = {\n",
    "       \"op\": \"=\",\n",
    "       \"content\":{\n",
    "            \"field\": \"files.data_type\",\n",
    "            \"value\": \"Slide Image\"\n",
    "       }\n",
    "    }\n",
    "\n",
    "    # A POST is used, so the filter parameters can be passed directly as a Dict object.\n",
    "    params = {\n",
    "       \"filters\": json.dumps(filters),\n",
    "       \"fields\": fields,\n",
    "       \"format\": \"CSV\",\n",
    "       \"size\": \"1000000\"\n",
    "       }\n",
    "    response = requests.get(file_endpt,params = params)\n",
    "    return pd.read_csv(io.StringIO(response.content.decode(\"utf-8\")))\n",
    "\n",
    "all_cases = get_associated_cases()\n",
    "filtered_cases = all_cases[[ 'file_name', \"file_id\", \"md5sum\", \"file_size\", \n",
    "                            'cases.0.case_id', 'cases.0.submitter_id', 'cases.0.samples.0.sample_type', \n",
    "                            'cases.0.project.primary_site', \n",
    "                            'cases.0.project.disease_type', 'cases.0.diagnoses.0.morphology', \n",
    "                            'cases.0.samples.0.pathology_report_uuid', 'cases.0.diagnoses.0.primary_diagnosis']]\n",
    "filtered_cases.columns = ['file_name', 'file_id', \"md5sum\", \"file_size\", 'case_id', 'submitter_id', 'sample_type', 'primary_site', \n",
    "                          'primary_diagnosis', 'morpholoy', 'pathology_report_uuid', 'primary_diagnosis_subtype']\n",
    "filtered_cases['file_type'] = filtered_cases.file_name.apply(lambda x: x.split('-')[5][:2])\n",
    "filtered_cases['section_type'] = filtered_cases.file_type.apply(lambda x: {'TS':'Frozen', \n",
    "                                                                           'BS': 'Frozen', \n",
    "                                                                           'DX': 'Biopsy', \n",
    "                                                                           'MS': 'Unknown' }[x])"
   ]
  },
  {
   "cell_type": "code",
   "execution_count": null,
   "metadata": {},
   "outputs": [],
   "source": [
    "histo_data = filtered_cases[['file_name', 'case_id']].merge(histo_data, on='file_name').reset_index(drop=True)"
   ]
  },
  {
   "cell_type": "code",
   "execution_count": null,
   "metadata": {},
   "outputs": [],
   "source": [
    "import numpy as np\n",
    "pd_dict = {pd: i for i, pd in enumerate(histo_data.primary_diagnosis.unique())}\n",
    "one_hot_encoder = np.eye(len(histo_data.primary_diagnosis.unique()))"
   ]
  },
  {
   "cell_type": "code",
   "execution_count": null,
   "metadata": {},
   "outputs": [],
   "source": [
    "import numpy as np\n",
    "def read_barcodes(file_path):\n",
    "    with open(file_path, 'r') as f:\n",
    "        barcodes = f.read().split('\\n')\n",
    "        arr = np.array([list(map(int, barcode.strip().split(' '))) \n",
    "                        for barcode in barcodes if barcode.strip()])\n",
    "        arr = arr.astype('uint8')\n",
    "    return np.unpackbits(arr, axis=-1)\n",
    "\n",
    "def read_features(file_path):\n",
    "    with open(file_path.replace('_barcode', '_feature'), 'r') as f:\n",
    "        features = f.read().split('\\n')\n",
    "        arr = np.array([list(map(float, feature.strip().split(' '))) \n",
    "                        for feature in features if feature.strip()])\n",
    "    \n",
    "    return arr\n",
    "\n",
    "features = [read_features(b_file) for b_file in histo_data.barcode_file]"
   ]
  },
  {
   "cell_type": "code",
   "execution_count": null,
   "metadata": {},
   "outputs": [],
   "source": [
    "max_n = max([feat.shape[0] for feat in features])"
   ]
  },
  {
   "cell_type": "code",
   "execution_count": null,
   "metadata": {},
   "outputs": [],
   "source": [
    "padded_features = np.zeros( (len(features), max_n, features[0].shape[1]) )\n",
    "\n",
    "for i, feat in enumerate(features):\n",
    "    padded_features[i, :len(feat), :] = feat"
   ]
  },
  {
   "cell_type": "code",
   "execution_count": null,
   "metadata": {},
   "outputs": [],
   "source": [
    "labels = [one_hot_encoder[pd_dict[diagnosis]] for diagnosis in histo_data.primary_diagnosis]"
   ]
  },
  {
   "cell_type": "code",
   "execution_count": null,
   "metadata": {},
   "outputs": [],
   "source": [
    "y = np.array(labels)[:, 0]"
   ]
  },
  {
   "cell_type": "markdown",
   "metadata": {},
   "source": [
    "## Train-Test split"
   ]
  },
  {
   "cell_type": "code",
   "execution_count": null,
   "metadata": {},
   "outputs": [],
   "source": [
    "idxs = np.arange(0, len(y))\n",
    "np.random.shuffle(idxs)\n",
    "\n",
    "cut_idx = int(0.3*len(y))\n",
    "test_idx = idxs[:cut_idx]\n",
    "train_idx = idxs[cut_idx:]\n",
    "\n",
    "train_features = padded_features[train_idx]\n",
    "train_labels = y[train_idx]\n",
    "\n",
    "test_features = padded_features[test_idx]\n",
    "test_labels = y[test_idx]"
   ]
  },
  {
   "cell_type": "code",
   "execution_count": null,
   "metadata": {},
   "outputs": [],
   "source": [
    "np.save('data/train_x', train_features)\n",
    "np.save('data/train_y', train_labels)\n",
    "np.save('data/test_x', test_features)\n",
    "np.save('data/test_y', test_labels)"
   ]
  },
  {
   "cell_type": "markdown",
   "metadata": {},
   "source": [
    "## Loading data to CUDA"
   ]
  },
  {
   "cell_type": "code",
   "execution_count": null,
   "metadata": {},
   "outputs": [],
   "source": [
    "x_train=torch.from_numpy(train_features)\n",
    "y_train=torch.from_numpy(train_labels)\n",
    "\n",
    "x_test=torch.from_numpy(test_features)\n",
    "y_test=torch.from_numpy(test_labels)\n",
    "\n",
    "x_train=x_train.to(device)\n",
    "y_train=y_train.to(device)"
   ]
  },
  {
   "cell_type": "code",
   "execution_count": null,
   "metadata": {},
   "outputs": [],
   "source": [
    "class fe_extrator(nn.Module):\n",
    "\n",
    "    def __init__(self):\n",
    "        super(fe_extrator, self).__init__()\n",
    "        # 1 input image channel, 6 output channels, 3x3 square convolution\n",
    "        # kernel\n",
    "        self.fc1=nn.Linear(1024, 784)\n",
    "        self.fc2=nn.Linear(784, 512)\n",
    "        self.fc3=nn.Linear(512, 512)\n",
    "        #self.fc3=nn.Linear(256, 128)\n",
    "        self.d=nn.Dropout(0.5)\n",
    "\n",
    "    def forward(self,x):\n",
    "        \n",
    "        mask = (x.sum(-1) != 0).type(torch.DoubleTensor)\n",
    "        mask = mask.unsqueeze(-1).to(device)\n",
    "        \n",
    "        x=self.fc1(x)\n",
    "        x=self.d(x)\n",
    "        x= F.relu(x)\n",
    "        x = x * mask\n",
    "        \n",
    "        x=self.fc2(x)\n",
    "        x=self.d(x)\n",
    "        x= F.relu(x)\n",
    "        x = x * mask\n",
    "                \n",
    "        x=self.fc3(x)\n",
    "        x=self.d(x)\n",
    "        x= F.relu(x)\n",
    "        x = x * mask\n",
    "        \n",
    "        return x"
   ]
  },
  {
   "cell_type": "code",
   "execution_count": null,
   "metadata": {},
   "outputs": [],
   "source": [
    "class c_vector(nn.Module):\n",
    "    \n",
    "    def __init__(self):\n",
    "        \n",
    "        super(c_vector,self).__init__()\n",
    "        self.fc1=nn.Linear(512, 128)\n",
    "    \n",
    "    def forward(self,x):\n",
    "        num_el = (x.sum(-1) != 0).type(torch.DoubleTensor).sum(1)\n",
    "        #print(num_el)\n",
    "        x=x.sum(1)/num_el.unsqueeze(-1).to(device)\n",
    "        x=self.fc1(x)\n",
    "        x=F.relu(x)\n",
    "        return x\n",
    "        \n",
    "\n",
    "class adj(nn.Module):\n",
    "    \n",
    "    def __init__(self):\n",
    "        \n",
    "        super(adj,self).__init__()\n",
    "        \n",
    "        self.fc1=nn.Linear(512+128, 512)\n",
    "        self.fc2=nn.Linear(512, 384)\n",
    "        \n",
    "        \n",
    "    def forward(self,x):\n",
    "        \n",
    "        mask = (x[:, :, :512].sum(-1) != 0).type(torch.DoubleTensor)\n",
    "        mask = mask.unsqueeze(-1).to(device)\n",
    "        \n",
    "        x=self.fc1(x)\n",
    "        x = x * mask\n",
    "        x=F.relu(x)\n",
    "        \n",
    "        x=self.fc2(x)\n",
    "        x = x * mask\n",
    "        x=F.relu(x)\n",
    "        \n",
    "        x=torch.bmm(x,torch.transpose(x,1,2))\n",
    "        # ff\n",
    "        #x=F.tanh(x)\n",
    "        \n",
    "        return x\n",
    "\n",
    "att_net=nn.Sequential(nn.Linear(384, 128), nn.ReLU(), nn.Linear(128, 64), nn.ReLU(), nn.Linear(64, 1), nn.Tanh() )\n",
    "pool=GlobalAttention(att_net)\n",
    "\n",
    "\n",
    "class gnet(torch.nn.Module):\n",
    "    \n",
    "    def __init__(self):\n",
    "        super(gnet, self).__init__()\n",
    "        self.conv1 = ChebConv(512, 512, 5)\n",
    "        self.conv2 =  ChebConv(512, 384, 5)\n",
    "        #self.conv3 =  ChebConv(256, 256, 10)\n",
    "        #self.conv1 = SAGEConv(512, 512)\n",
    "        #self.conv2 =  SAGEConv(512, 384)\n",
    "        \n",
    "        \n",
    "    def forward(self, dat):\n",
    "        x, edge_index, edge_weight, batch= dat.x, dat.edge_index, dat.edge_attr,dat.batch\n",
    "        \n",
    "        x = self.conv1(x, edge_index, edge_weight=edge_weight)\n",
    "        x = F.relu(x)\n",
    "        \n",
    "        #x = F.dropout(x, training=self.training)\n",
    "        x = self.conv2(x, edge_index=edge_index, edge_weight=edge_weight)\n",
    "        x=F.relu(x)\n",
    "        \n",
    "        #x = self.conv3(x, edge_index=edge_index,edge_weight=edge_weight)\n",
    "        #x=F.relu(x)\n",
    "        \n",
    "        x=x.type(torch.FloatTensor)\n",
    "        x=pool(x, batch)\n",
    "        #print(batch)\n",
    "        \n",
    "        #x = global_mean_pool(x, batch)\n",
    "        #x=global_add_pool(x,batch)\n",
    "        #x=F.tanh(x)\n",
    "\n",
    "        return x, x1\n",
    "\n",
    "    \n",
    "class mlp(nn.Module):\n",
    "    \n",
    "    def __init__(self):\n",
    "        super(mlp, self).__init__()   \n",
    "        self.fc1=nn.Linear(384, 256)\n",
    "        #self.fc2=nn.Linear(256, 128)\n",
    "        #self.fc3=nn.Linear(128, 64)\n",
    "        self.fc4=nn.Linear(256, 1)\n",
    "        \n",
    "    \n",
    "    def forward(self,x):\n",
    "        x=self.fc1(x)\n",
    "        #x=nn.Dropout(x)\n",
    "        x=F.relu(x)\n",
    "        \n",
    "        #x=self.fc2(x)\n",
    "        #x=F.relu(x)\n",
    "        \n",
    "        #x=self.fc3(x)\n",
    "        #x=F.relu(x)\n",
    "        \n",
    "        x=self.fc4(x)\n",
    "        x=torch.sigmoid(x)\n",
    "        return x\n",
    "\n",
    "\n",
    "class final_model(nn.Module):\n",
    "    \n",
    "    def __init__(self):\n",
    "        \n",
    "        super(final_model,self).__init__()\n",
    "        self.fea_model=fe_extrator().cuda()\n",
    "        self.c_net=c_vector().to(device)\n",
    "        self.adj_mat=adj().to(device)\n",
    "        self.graphcnn=gnet().to(device)\n",
    "        self.mlp_out=mlp().to(device)\n",
    "        \n",
    "    def forward(self, inp, y):\n",
    "        inp=inp.to(device)\n",
    "        #x, edge_index, edge_weight,batch = data.x, data.edge_index,data.weight,data.batch\n",
    "        inp=inp.type(torch.DoubleTensor) ####CHECK\n",
    "        \n",
    "        fea_o=self.fea_model(inp.cuda())      ##### features for gcnn\n",
    "        \n",
    "        c=self.c_net(fea_o)\n",
    "        \n",
    "        q=[torch.cat((fea_o[:,i,:],c),1) for i in range(inp.shape[1])]\n",
    "        q=torch.stack(q)\n",
    "        q=q.permute(1,0,2)\n",
    "        adj_matrix=self.adj_mat(q)    #### adjance matrix\n",
    "        \n",
    "        # no of edges n(n-1)\n",
    "        n_edges=inp.shape[1]*(inp.shape[1]-1) + inp.shape[1]\n",
    "        edge_index=[]\n",
    "        \n",
    "        num_els = (fea_o.sum(-1) != 0).type(torch.DoubleTensor).sum(axis=1)\n",
    "        num_els = num_els.cpu().detach().numpy().astype('int')\n",
    "        \n",
    "        for n, nel in zip(range(inp.shape[0]), num_els):\n",
    "            temp_index = np.ones((2, int(nel**2) ))\n",
    "            count_row=0\n",
    "            count_col=0\n",
    "            for i in range( int(nel) ):\n",
    "                node_list=list(np.arange( int(nel) ))\n",
    "                #node_list.remove(i)\n",
    "                #node_list=np.array(node_list)\n",
    "\n",
    "                for j in node_list:\n",
    "\n",
    "                    temp_index[0,count_row]=i\n",
    "                    temp_index[1,count_col]=j\n",
    "                    \n",
    "                    count_col = count_col+1\n",
    "                    count_row = count_row+1\n",
    "                                 \n",
    "            edge_index.append(temp_index)\n",
    "                \n",
    "        edge_attr=[]\n",
    "        \n",
    "        adj_matrix=adj_matrix.cpu()\n",
    "        \n",
    "                                 \n",
    "        for n, nel in zip(range(inp.shape[0]), num_els):\n",
    "            temp_attr = np.zeros(( int(nel**2), 1))\n",
    "            for i in range(nel**2):\n",
    "                row=edge_index[n][0,i]\n",
    "                col=edge_index[n][1,i]\n",
    "                \n",
    "                temp_attr[i,:]=adj_matrix.data[n,int(row),int(col)]\n",
    "                \n",
    "            edge_attr.append(temp_attr)\n",
    "        \n",
    "        \n",
    "        dat=[]\n",
    "        \n",
    "        \n",
    "        for n, nel in zip(range(inp.shape[0]), num_els):\n",
    "\n",
    "            _edge_attr = edge_attr[n]\n",
    "            \n",
    "            _edge_attr=torch.from_numpy(_edge_attr).double()  #CHECK\n",
    "            #edge_attr=torch.tensor(edge_attr,device=device)\n",
    "            _edge_attr=_edge_attr.view(_edge_attr.shape[0])\n",
    "\n",
    "\n",
    "            _edge_index = edge_index[n]\n",
    "            _edge_index=torch.from_numpy(_edge_index)\n",
    "            #edge_index=edge_index.type(torch.LongTensor).cuda()\n",
    "\n",
    "            _edge_attr=_edge_attr.type(torch.DoubleTensor)\n",
    "            _edge_attr=_edge_attr.cuda()\n",
    "\n",
    "            temp=data.Data(x=fea_o[n,:nel,:].view(nel, fea_o.shape[2]),\n",
    "                           edge_index=_edge_index.type(torch.LongTensor).cuda(), edge_attr=_edge_attr,y=y[n].view(1))\n",
    "            dat.append(temp)\n",
    "\n",
    "        dat=data.DataLoader(dat, batch_size=inp.shape[0])\n",
    "                \n",
    "        for g_batch in dat:      \n",
    "            #print(g_batch.edge_attr)\n",
    "            #print('I did')\n",
    "            x,x1=self.graphcnn(g_batch)\n",
    "            y_batch=g_batch.y\n",
    "        \n",
    "        x=x.type(torch.DoubleTensor).cuda()\n",
    "        bf_x = x\n",
    "        x=self.mlp_out(x)\n",
    "        \n",
    "        #print(y)\n",
    "        return x, y_batch, adj_matrix, bf_x\n",
    "\n",
    "\n",
    "def weights_init(m):\n",
    "    if isinstance(m, nn.Linear):\n",
    "        torch.nn.init.xavier_uniform_(m.weight.data)\n",
    "#        torch.nn.init.xavier_uniform(m.bias.data)\n",
    "\n"
   ]
  },
  {
   "cell_type": "code",
   "execution_count": null,
   "metadata": {},
   "outputs": [],
   "source": [
    "#data loader\n",
    "class HistoDataset(Dataset):\n",
    "    \n",
    "    def __init__(self, x,y, transform=None):\n",
    "        self.x = x\n",
    "        self.y=y\n",
    "        \n",
    "    def __len__(self):\n",
    "        return (self.x.shape[0])\n",
    "    \n",
    "    def __getitem__(self, index):\n",
    "        x_train = self.x[index,:,:]\n",
    "        label = self.y[index]\n",
    "        return x_train,label"
   ]
  },
  {
   "cell_type": "code",
   "execution_count": null,
   "metadata": {},
   "outputs": [],
   "source": [
    "def acc(x_test,y_test):\n",
    "\n",
    "    my_model.eval()\n",
    "    a,b, _, _ =my_model(x_test,y_test)\n",
    "    a=a.cpu().detach().numpy()\n",
    "    b=b.cpu().detach().numpy()\n",
    "\n",
    "    a=np.round(a)\n",
    "    a.reshape(x_test.shape[0])\n",
    "    y_tes=y_test.cpu().detach().numpy()\n",
    "    \n",
    "    count=0\n",
    "    for i in range(x_test.shape[0]):\n",
    "\n",
    "        if b[i]==a[i]:\n",
    "            count=count+1\n",
    "                \n",
    "    return count/x_test.shape[0]"
   ]
  },
  {
   "cell_type": "code",
   "execution_count": null,
   "metadata": {},
   "outputs": [],
   "source": [
    "patient_ids = histo_data.sample(frac=1).case_id.dropna().unique()\n",
    "\n",
    "cut_idx = int(patient_ids.shape[0]*0.7)\n",
    "train_patient_ids = set(patient_ids[:cut_idx])\n",
    "test_patient_ids = set(patient_ids[cut_idx:])"
   ]
  },
  {
   "cell_type": "code",
   "execution_count": null,
   "metadata": {},
   "outputs": [],
   "source": [
    "from sklearn.model_selection import KFold \n",
    "fold_accuracies=[]\n",
    "! touch print.txt\n",
    "kf = KFold(n_splits=5,shuffle=True,random_state=98)\n",
    "\n",
    "fl = open('./print-sk.txt', 'w')\n",
    "for train_index, test_index in kf.split(patient_ids):\n",
    "    \n",
    "    train_patient_ids = set(patient_ids[train_index])\n",
    "    test_patient_ids = set(patient_ids[test_index])\n",
    "    \n",
    "    \n",
    "    train_histo_data = histo_data[histo_data.case_id.apply(lambda x: x in train_patient_ids)]\n",
    "    test_histo_data = histo_data[histo_data.case_id.apply(lambda x: x in test_patient_ids)]\n",
    "    \n",
    "    _train_index = train_histo_data.index.tolist()\n",
    "    _test_index = test_histo_data.index.tolist()\n",
    "    \n",
    "    x_train, x_test = padded_features[_train_index], padded_features[_test_index]\n",
    "    y_train, y_test = y[_train_index], y[_test_index]\n",
    "\n",
    "    x_train=torch.from_numpy(x_train)\n",
    "    y_train=torch.from_numpy(y_train)\n",
    "\n",
    "    x_test=torch.from_numpy(x_test)\n",
    "    y_test=torch.from_numpy(y_test)\n",
    "\n",
    "    train_dataset=HistoDataset(x_train, y_train)\n",
    "    train_loader=DataLoader(train_dataset, batch_size=64, shuffle=True)\n",
    "    train_iter = iter(train_loader)\n",
    "\n",
    "    my_model=final_model()\n",
    "    my_model.double()\n",
    "    my_model=my_model.to(device)\n",
    "    my_model.apply(weights_init)\n",
    "    criterion=nn.BCELoss()\n",
    "    optimizer=optim.Adam(my_model.parameters(), lr=7e-4,weight_decay=1e-4)\n",
    "\n",
    "    # run epochs per fold\n",
    "    epochs=75\n",
    "    accuracy=[]\n",
    "    my_model.train()\n",
    "\n",
    "    for epoch in range(epochs):  # loop over the dataset multiple times\n",
    "\n",
    "        running_loss = 0.0\n",
    "        train_iter = iter(train_loader)\n",
    "        count=0\n",
    "        for i, train_data in enumerate(train_loader):\n",
    "            # get the inputs; data is a list of [inputs, labels]\n",
    "            inputs, y_label = train_data\n",
    "\n",
    "            # zero the parameter gradients\n",
    "            optimizer.zero_grad()\n",
    "\n",
    "            outputs, labels, _, _ = my_model(inputs, y_label)\n",
    "\n",
    "            #print(y_label)\n",
    "            #print(outputs)\n",
    "\n",
    "            #print(fe)\n",
    "            #print(adj)\n",
    "            outputs=outputs.view(outputs.shape[0])\n",
    "            loss = criterion(outputs.to(device), labels.type(torch.DoubleTensor).to(device))\n",
    "            loss.backward()\n",
    "            optimizer.step()\n",
    "\n",
    "            count=count+1\n",
    "            #print(loss)\n",
    "            # print statistics\n",
    "            running_loss += loss.item()\n",
    "        temp= acc(x_test, y_test)\n",
    "        accuracy.append(temp)\n",
    "        print('epoch',epoch, 'loss:',running_loss/count, 'accuracy on test,train=',temp)\n",
    "        print('epoch',epoch, 'loss:',running_loss/count, 'accuracy on test,train=',temp, file=fl, flush=True)\n",
    "\n",
    "        \n",
    "    del my_model, x_train, x_test, y_train, y_test\n",
    "    fold_accuracies.append(accuracy)"
   ]
  },
  {
   "cell_type": "code",
   "execution_count": 25,
   "metadata": {},
   "outputs": [],
   "source": [
    "train_histo_data = histo_data[histo_data.case_id.apply(lambda x: x in train_patient_ids)]\n",
    "test_histo_data = histo_data[histo_data.case_id.apply(lambda x: x in test_patient_ids)]\n",
    "\n",
    "_train_index = train_histo_data.index.tolist()\n",
    "_test_index = test_histo_data.index.tolist()\n",
    "\n",
    "x_train, x_test = padded_features[_train_index], padded_features[_test_index]\n",
    "y_train, y_test = y[_train_index], y[_test_index]\n",
    "\n",
    "x_test = torch.from_numpy(x_test)\n",
    "y_test = torch.from_numpy(y_test)\n",
    "\n",
    "\n",
    "train_dataset=HistoDataset(x_train, y_train)\n",
    "train_loader=DataLoader(train_dataset, batch_size=64, shuffle=True)\n",
    "train_iter = iter(train_loader)"
   ]
  },
  {
   "cell_type": "code",
   "execution_count": 1,
   "metadata": {},
   "outputs": [
    {
     "ename": "NameError",
     "evalue": "name 'final_model' is not defined",
     "output_type": "error",
     "traceback": [
      "\u001b[0;31m---------------------------------------------------------------------------\u001b[0m",
      "\u001b[0;31mNameError\u001b[0m                                 Traceback (most recent call last)",
      "\u001b[0;32m<ipython-input-1-05bb0d22601d>\u001b[0m in \u001b[0;36m<module>\u001b[0;34m\u001b[0m\n\u001b[0;32m----> 1\u001b[0;31m \u001b[0mmy_model\u001b[0m\u001b[0;34m=\u001b[0m\u001b[0mfinal_model\u001b[0m\u001b[0;34m(\u001b[0m\u001b[0;34m)\u001b[0m\u001b[0;34m\u001b[0m\u001b[0;34m\u001b[0m\u001b[0m\n\u001b[0m\u001b[1;32m      2\u001b[0m \u001b[0mmy_model\u001b[0m\u001b[0;34m.\u001b[0m\u001b[0mdouble\u001b[0m\u001b[0;34m(\u001b[0m\u001b[0;34m)\u001b[0m\u001b[0;34m\u001b[0m\u001b[0;34m\u001b[0m\u001b[0m\n\u001b[1;32m      3\u001b[0m \u001b[0mmy_model\u001b[0m\u001b[0;34m=\u001b[0m\u001b[0mmy_model\u001b[0m\u001b[0;34m.\u001b[0m\u001b[0mto\u001b[0m\u001b[0;34m(\u001b[0m\u001b[0mdevice\u001b[0m\u001b[0;34m)\u001b[0m\u001b[0;34m\u001b[0m\u001b[0;34m\u001b[0m\u001b[0m\n\u001b[1;32m      4\u001b[0m \u001b[0mmy_model\u001b[0m\u001b[0;34m.\u001b[0m\u001b[0mapply\u001b[0m\u001b[0;34m(\u001b[0m\u001b[0mweights_init\u001b[0m\u001b[0;34m)\u001b[0m\u001b[0;34m\u001b[0m\u001b[0;34m\u001b[0m\u001b[0m\n\u001b[1;32m      5\u001b[0m \u001b[0mcriterion\u001b[0m\u001b[0;34m=\u001b[0m\u001b[0mnn\u001b[0m\u001b[0;34m.\u001b[0m\u001b[0mBCELoss\u001b[0m\u001b[0;34m(\u001b[0m\u001b[0;34m)\u001b[0m\u001b[0;34m\u001b[0m\u001b[0;34m\u001b[0m\u001b[0m\n",
      "\u001b[0;31mNameError\u001b[0m: name 'final_model' is not defined"
     ]
    }
   ],
   "source": [
    "my_model=final_model()\n",
    "my_model.double()\n",
    "my_model=my_model.to(device)\n",
    "my_model.apply(weights_init)\n",
    "criterion=nn.BCELoss()\n",
    "optimizer=optim.Adam(my_model.parameters(), lr=7e-4,weight_decay=1e-4)\n",
    "\n",
    "# run epochs per fold\n",
    "epochs=75\n",
    "accuracy=[]\n",
    "my_model.train()\n",
    "\n",
    "for epoch in range(epochs):  # loop over the dataset multiple times\n",
    "\n",
    "    running_loss = 0.0\n",
    "    train_iter = iter(train_loader)\n",
    "    count=0\n",
    "    for i, train_data in enumerate(train_loader):\n",
    "        \n",
    "        # get the inputs; data is a list of [inputs, labels]\n",
    "        inputs, y_label = train_data\n",
    "\n",
    "        # zero the parameter gradients\n",
    "        optimizer.zero_grad()\n",
    "\n",
    "        outputs, labels, _, _ = my_model(inputs.cuda(), y_label.cuda())\n",
    "\n",
    "        #print(y_label)\n",
    "        #print(outputs)\n",
    "\n",
    "        #print(fe)\n",
    "        #print(adj)\n",
    "        outputs=outputs.view(outputs.shape[0])\n",
    "        loss = criterion(outputs.to(device), labels.type(torch.DoubleTensor).to(device))\n",
    "        loss.backward()\n",
    "        optimizer.step()\n",
    "\n",
    "        count=count+1\n",
    "        #print(loss)\n",
    "        # print statistics\n",
    "        running_loss += loss.item()\n",
    "    temp= acc(x_test, y_test)\n",
    "    accuracy.append(temp)\n",
    "    print('epoch',epoch, 'loss:',running_loss/count, 'accuracy on test,train=',temp)"
   ]
  },
  {
   "cell_type": "code",
   "execution_count": 27,
   "metadata": {},
   "outputs": [],
   "source": [
    "my_model.eval()\n",
    "_, _, _, feats = my_model(x_test, y_test)"
   ]
  },
  {
   "cell_type": "code",
   "execution_count": 32,
   "metadata": {},
   "outputs": [],
   "source": [
    "from sklearn.manifold import TSNE"
   ]
  },
  {
   "cell_type": "code",
   "execution_count": 53,
   "metadata": {},
   "outputs": [
    {
     "data": {
      "text/plain": [
       "tensor([1., 1., 1., 1., 1., 1., 1., 1., 1., 1., 1., 0., 0., 1., 1., 1., 1., 0.,\n",
       "        0., 0., 0., 1., 1., 1., 1., 0., 0., 0., 0., 0., 0., 1., 1., 1., 1., 0.,\n",
       "        0., 1., 0., 1., 1., 1., 0., 1., 1., 0., 0., 0., 1., 1., 1., 0., 1., 1.,\n",
       "        1., 1., 1., 1., 1., 1., 1., 1., 1., 0., 1., 0., 1., 1., 0., 1., 1., 0.,\n",
       "        1., 1., 0., 0., 0., 1., 1., 1., 1., 1., 1., 1., 1., 1., 1., 1., 1., 1.,\n",
       "        1., 0., 0., 0., 0., 0., 0., 0., 0., 0., 0., 0., 1., 0., 0., 0., 1., 0.,\n",
       "        1., 1., 0., 0., 1., 0., 0., 1., 1., 1., 1., 0., 0., 1., 0., 0., 0., 0.,\n",
       "        0., 1., 1., 1., 1., 1., 0., 0., 0., 1., 1., 1., 0., 0., 0., 0., 1., 0.,\n",
       "        1., 0., 0., 0., 1., 1., 0., 1., 0., 0., 0., 0., 0., 0., 1., 1., 1., 1.,\n",
       "        1., 0., 0., 0., 1., 1., 1., 0., 0., 0., 0., 0., 1., 0., 1., 0., 0., 1.,\n",
       "        1., 0., 0., 0., 0., 1., 1., 1., 1., 0., 0., 1., 0., 1., 1., 1., 1., 1.,\n",
       "        0., 1., 1., 0., 1., 1., 0., 0., 0., 0., 1., 0., 1., 1., 1., 0., 0., 1.,\n",
       "        0., 0., 0., 1., 1., 0., 0., 1., 1., 1., 0., 1., 0., 1., 1., 1., 0., 0.,\n",
       "        1., 0., 0., 0., 0., 0., 0., 0., 0., 0., 0., 0., 0., 1., 1., 1., 1., 0.,\n",
       "        1., 1., 1., 1., 1., 1., 1., 0., 0., 0., 0., 0., 0., 0., 1., 0., 0., 0.,\n",
       "        0., 0., 1., 1., 0., 1., 1., 1., 1., 1., 0., 0., 0., 0., 1.],\n",
       "       dtype=torch.float64)"
      ]
     },
     "execution_count": 53,
     "metadata": {},
     "output_type": "execute_result"
    }
   ],
   "source": [
    "y_test"
   ]
  },
  {
   "cell_type": "code",
   "execution_count": 60,
   "metadata": {},
   "outputs": [
    {
     "data": {
      "text/plain": [
       "<matplotlib.collections.PathCollection at 0x7fb0b3820fd0>"
      ]
     },
     "execution_count": 60,
     "metadata": {},
     "output_type": "execute_result"
    },
    {
     "data": {
      "image/png": "[encoded data removed]",
      "text/plain": [
       "<Figure size 432x288 with 1 Axes>"
      ]
     },
     "metadata": {
      "needs_background": "light"
     },
     "output_type": "display_data"
    }
   ],
   "source": [
    "tsne = TSNE(perplexity=200)\n",
    "tsne_data = tsne.fit_transform(feats.cpu().detach().numpy())\n",
    "\n",
    "import matplotlib.pyplot as plt\n",
    "%matplotlib inline\n",
    "\n",
    "plt.scatter(tsne_data[:, 0], tsne_data[:, 1], c= y_test)"
   ]
  },
  {
   "cell_type": "code",
   "execution_count": 73,
   "metadata": {},
   "outputs": [
    {
     "data": {
      "text/plain": [
       "tensor([-0.1207], grad_fn=<TanhBackward>)"
      ]
     },
     "execution_count": 73,
     "metadata": {},
     "output_type": "execute_result"
    }
   ],
   "source": [
    "att_net(feats[0].type(torch.FloatTensor).cpu())"
   ]
  },
  {
   "cell_type": "code",
   "execution_count": 72,
   "metadata": {},
   "outputs": [
    {
     "data": {
      "text/plain": [
       "torch.Size([285, 384])"
      ]
     },
     "execution_count": 72,
     "metadata": {},
     "output_type": "execute_result"
    }
   ],
   "source": [
    "feats.shape"
   ]
  }
 ],
 "metadata": {
  "celltoolbar": "Raw Cell Format",
  "kernelspec": {
   "display_name": "Python 3",
   "language": "python",
   "name": "python3"
  },
  "language_info": {
   "codemirror_mode": {
    "name": "ipython",
    "version": 3
   },
   "file_extension": ".py",
   "mimetype": "text/x-python",
   "name": "python",
   "nbconvert_exporter": "python",
   "pygments_lexer": "ipython3",
   "version": "3.7.4"
  }
 },
 "nbformat": 4,
 "nbformat_minor": 4
}
